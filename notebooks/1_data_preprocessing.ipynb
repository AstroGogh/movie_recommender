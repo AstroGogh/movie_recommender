{
 "cells": [
  {
   "cell_type": "code",
   "execution_count": 1,
   "metadata": {},
   "outputs": [],
   "source": [
    "import pandas as pd\n",
    "import numpy as np\n",
    "import joblib\n",
    "import pickle\n",
    "from scipy import sparse\n",
    "import seaborn as sns\n",
    "import matplotlib.pyplot as plt\n",
    "from sklearn.preprocessing import MinMaxScaler\n",
    "from sklearn.feature_extraction.text import TfidfVectorizer\n",
    "from chunkdot import cosine_similarity_top_k"
   ]
  },
  {
   "cell_type": "code",
   "execution_count": 4,
   "metadata": {},
   "outputs": [
    {
     "data": {
      "text/html": [
       "<div>\n",
       "<style scoped>\n",
       "    .dataframe tbody tr th:only-of-type {\n",
       "        vertical-align: middle;\n",
       "    }\n",
       "\n",
       "    .dataframe tbody tr th {\n",
       "        vertical-align: top;\n",
       "    }\n",
       "\n",
       "    .dataframe thead th {\n",
       "        text-align: right;\n",
       "    }\n",
       "</style>\n",
       "<table border=\"1\" class=\"dataframe\">\n",
       "  <thead>\n",
       "    <tr style=\"text-align: right;\">\n",
       "      <th></th>\n",
       "      <th>id</th>\n",
       "      <th>title</th>\n",
       "      <th>year_release</th>\n",
       "      <th>duration</th>\n",
       "      <th>genre</th>\n",
       "      <th>rating</th>\n",
       "      <th>metascore</th>\n",
       "      <th>director</th>\n",
       "      <th>cast</th>\n",
       "      <th>votes</th>\n",
       "      <th>description</th>\n",
       "      <th>img_url</th>\n",
       "    </tr>\n",
       "  </thead>\n",
       "  <tbody>\n",
       "    <tr>\n",
       "      <th>0</th>\n",
       "      <td>tt0439572</td>\n",
       "      <td>The Flash</td>\n",
       "      <td>2023</td>\n",
       "      <td>144 min</td>\n",
       "      <td>Action, Adventure, Fantasy</td>\n",
       "      <td>7.2</td>\n",
       "      <td>56.0</td>\n",
       "      <td>Andy Muschietti</td>\n",
       "      <td>Ezra Miller,Michael Keaton,Sasha Calle,Michael...</td>\n",
       "      <td>66,700</td>\n",
       "      <td>Barry Allen uses his super speed to change the...</td>\n",
       "      <td>https://m.media-amazon.com/images/M/MV5BZWE2ZW...</td>\n",
       "    </tr>\n",
       "    <tr>\n",
       "      <th>1</th>\n",
       "      <td>tt9362722</td>\n",
       "      <td>Spider-Man: Across the Spider-Verse</td>\n",
       "      <td>2023</td>\n",
       "      <td>140 min</td>\n",
       "      <td>Animation, Action, Adventure</td>\n",
       "      <td>8.9</td>\n",
       "      <td>86.0</td>\n",
       "      <td>Joaquim Dos Santos</td>\n",
       "      <td>Kemp Powers,Justin K. Thompson,Shameik Moore,H...</td>\n",
       "      <td>151,801</td>\n",
       "      <td>Miles Morales catapults across the Multiverse,...</td>\n",
       "      <td>https://m.media-amazon.com/images/M/MV5BMzI0Nm...</td>\n",
       "    </tr>\n",
       "  </tbody>\n",
       "</table>\n",
       "</div>"
      ],
      "text/plain": [
       "          id                                title year_release duration  \\\n",
       "0  tt0439572                            The Flash         2023  144 min   \n",
       "1  tt9362722  Spider-Man: Across the Spider-Verse         2023  140 min   \n",
       "\n",
       "                                      genre  rating  metascore  \\\n",
       "0    Action, Adventure, Fantasy                 7.2       56.0   \n",
       "1  Animation, Action, Adventure                 8.9       86.0   \n",
       "\n",
       "             director                                               cast  \\\n",
       "0     Andy Muschietti  Ezra Miller,Michael Keaton,Sasha Calle,Michael...   \n",
       "1  Joaquim Dos Santos  Kemp Powers,Justin K. Thompson,Shameik Moore,H...   \n",
       "\n",
       "     votes                                        description  \\\n",
       "0   66,700  Barry Allen uses his super speed to change the...   \n",
       "1  151,801  Miles Morales catapults across the Multiverse,...   \n",
       "\n",
       "                                             img_url  \n",
       "0  https://m.media-amazon.com/images/M/MV5BZWE2ZW...  \n",
       "1  https://m.media-amazon.com/images/M/MV5BMzI0Nm...  "
      ]
     },
     "execution_count": 4,
     "metadata": {},
     "output_type": "execute_result"
    }
   ],
   "source": [
    "df = pd.read_csv('../data/movie.csv')\n",
    "df.head(2)"
   ]
  },
  {
   "cell_type": "code",
   "execution_count": 4,
   "metadata": {},
   "outputs": [
    {
     "name": "stdout",
     "output_type": "stream",
     "text": [
      "<class 'pandas.core.frame.DataFrame'>\n",
      "RangeIndex: 50000 entries, 0 to 49999\n",
      "Data columns (total 12 columns):\n",
      " #   Column        Non-Null Count  Dtype  \n",
      "---  ------        --------------  -----  \n",
      " 0   id            50000 non-null  object \n",
      " 1   title         50000 non-null  object \n",
      " 2   year_release  49850 non-null  object \n",
      " 3   duration      46430 non-null  object \n",
      " 4   genre         49995 non-null  object \n",
      " 5   rating        42406 non-null  float64\n",
      " 6   metascore     39691 non-null  float64\n",
      " 7   director      49995 non-null  object \n",
      " 8   cast          49958 non-null  object \n",
      " 9   votes         42406 non-null  object \n",
      " 10  description   50000 non-null  object \n",
      " 11  img_url       50000 non-null  object \n",
      "dtypes: float64(2), object(10)\n",
      "memory usage: 4.6+ MB\n"
     ]
    }
   ],
   "source": [
    "df.info()"
   ]
  },
  {
   "cell_type": "code",
   "execution_count": 6,
   "metadata": {},
   "outputs": [
    {
     "data": {
      "text/plain": [
       "id                  0\n",
       "title               0\n",
       "year_release      150\n",
       "duration         3570\n",
       "genre               5\n",
       "rating           7594\n",
       "metascore       10309\n",
       "director            5\n",
       "cast               42\n",
       "votes            7594\n",
       "description         0\n",
       "img_url             0\n",
       "dtype: int64"
      ]
     },
     "execution_count": 6,
     "metadata": {},
     "output_type": "execute_result"
    }
   ],
   "source": [
    "df.isnull().sum()"
   ]
  },
  {
   "attachments": {},
   "cell_type": "markdown",
   "metadata": {},
   "source": [
    "Convert votes and year_release to float"
   ]
  },
  {
   "cell_type": "code",
   "execution_count": 7,
   "metadata": {},
   "outputs": [],
   "source": [
    "df['votes'] = df['votes'].str.replace(',', '').astype(float)\n",
    "df['year_release'] = df['year_release'].str.extract('(\\d+)').astype(float)"
   ]
  },
  {
   "attachments": {},
   "cell_type": "markdown",
   "metadata": {},
   "source": [
    "# **Consine Similarities Preparation**\n",
    "First, Tag column preparation as a combination between genre, director, cast, and description. Tag will later be used to calculate the similarities in order to develop content-based filtering recommender system."
   ]
  },
  {
   "cell_type": "code",
   "execution_count": 5,
   "metadata": {},
   "outputs": [],
   "source": [
    "columns_tag = ['genre', 'director', 'cast', 'description']\n",
    "df['tag'] = df[columns_tag].astype('str').apply(lambda column : ' '.join(column), axis=1)"
   ]
  },
  {
   "cell_type": "code",
   "execution_count": 6,
   "metadata": {},
   "outputs": [
    {
     "data": {
      "text/plain": [
       "(0.0, 2500.0)"
      ]
     },
     "execution_count": 6,
     "metadata": {},
     "output_type": "execute_result"
    },
    {
     "data": {
      "image/png": "[encoded data removed]",
      "text/plain": [
       "<Figure size 1500x500 with 1 Axes>"
      ]
     },
     "metadata": {},
     "output_type": "display_data"
    }
   ],
   "source": [
    "df['tag_len'] = df['tag'].apply(lambda x: len(x))\n",
    "\n",
    "# illustrate the tag text length\n",
    "sns.displot(data=df.dropna(), bins=list(range(0, 2000, 25)), height=5, x='tag_len', aspect=3, kde=True)\n",
    "plt.title('Distribution of tag text length')\n",
    "plt.xlim([0, 2500])"
   ]
  },
  {
   "attachments": {},
   "cell_type": "markdown",
   "metadata": {},
   "source": [
    "Second, data are being quantify the importance of word and vectorize the result for further processing.  "
   ]
  },
  {
   "cell_type": "code",
   "execution_count": 7,
   "metadata": {},
   "outputs": [
    {
     "name": "stdout",
     "output_type": "stream",
     "text": [
      "Shape: (50000, 5000)\n",
      "[(0, '000'), (1, '10'), (2, '11'), (3, '12'), (4, '13')]\n"
     ]
    }
   ],
   "source": [
    "tfidf = TfidfVectorizer(max_features=5000, analyzer='word', stop_words='english')\n",
    "tfidf_vector= tfidf.fit_transform(df['tag'])\n",
    "\n",
    "print(\"Shape:\", tfidf_vector.shape)\n",
    "print(list(enumerate(tfidf.get_feature_names_out()))[:5])"
   ]
  },
  {
   "cell_type": "code",
   "execution_count": 2,
   "metadata": {},
   "outputs": [
    {
     "name": "stdout",
     "output_type": "stream",
     "text": [
      "shape:  (50000, 50000)\n"
     ]
    }
   ],
   "source": [
    "path = \"../data/npz/similarity_matrix.npz\"\n",
    "\n",
    "try:\n",
    "    sim_mat = sparse.load_npz(path)\n",
    "    \n",
    "except (FileNotFoundError, IOError):\n",
    "    sim_mat = cosine_similarity_top_k(tfidf_vector, top_k=20)\n",
    "    sparse.save_npz(path, sim_mat)\n",
    "\n",
    "print(\"shape: \", sim_mat.shape)"
   ]
  },
  {
   "attachments": {},
   "cell_type": "markdown",
   "metadata": {},
   "source": [
    "fifth, re-ranking of similarity scores are being performed in order to enhance performance. Re-ranking implement year release, metascore, and rating. "
   ]
  },
  {
   "cell_type": "code",
   "execution_count": 8,
   "metadata": {},
   "outputs": [],
   "source": [
    "year_normalize = MinMaxScaler().fit_transform(df['year_release'].values.reshape(-1, 1))\n",
    "metascore_normalize = MinMaxScaler().fit_transform(df['metascore'].values.reshape(-1, 1))\n",
    "rating_normalize = MinMaxScaler().fit_transform(df['rating'].values.reshape(-1, 1))\n",
    "votes_normalize = MinMaxScaler().fit_transform(df['votes'].values.reshape(-1, 1))"
   ]
  },
  {
   "cell_type": "code",
   "execution_count": 16,
   "metadata": {},
   "outputs": [
    {
     "ename": "MemoryError",
     "evalue": "Unable to allocate 18.6 GiB for an array with shape (50000, 50000) and data type float64",
     "output_type": "error",
     "traceback": [
      "\u001b[1;31m---------------------------------------------------------------------------\u001b[0m",
      "\u001b[1;31mMemoryError\u001b[0m                               Traceback (most recent call last)",
      "Cell \u001b[1;32mIn[16], line 10\u001b[0m\n\u001b[0;32m      7\u001b[0m weights \u001b[39m=\u001b[39m [\u001b[39m0.5\u001b[39m, \u001b[39m0.3\u001b[39m, \u001b[39m0.2\u001b[39m, \u001b[39m0.1\u001b[39m]  \u001b[39m# Example weights for year_release, metascore, rating, votes\u001b[39;00m\n\u001b[0;32m      9\u001b[0m \u001b[39m# Perform re-ranking based on weighted sum of normalized features\u001b[39;00m\n\u001b[1;32m---> 10\u001b[0m re_ranked_sim_mat \u001b[39m=\u001b[39m sim_mat \u001b[39m+\u001b[39;49m (year_normalize \u001b[39m*\u001b[39;49m weights[\u001b[39m0\u001b[39;49m]) \u001b[39m+\u001b[39m (metascore_normalize \u001b[39m*\u001b[39m weights[\u001b[39m1\u001b[39m]) \u001b[39m+\u001b[39m (rating_normalize \u001b[39m*\u001b[39m weights[\u001b[39m2\u001b[39m]) \u001b[39m+\u001b[39m (votes_normalize \u001b[39m*\u001b[39m weights[\u001b[39m3\u001b[39m])\n\u001b[0;32m     11\u001b[0m \u001b[39mprint\u001b[39m(\u001b[39m\"\u001b[39m\u001b[39mshape: \u001b[39m\u001b[39m\"\u001b[39m, re_ranked_sim_mat\u001b[39m.\u001b[39mshape)\n\u001b[0;32m     12\u001b[0m re_ranked_sim_mat\n",
      "File \u001b[1;32mc:\\Users\\vincencius\\anaconda3\\envs\\recommender\\lib\\site-packages\\scipy\\sparse\\_base.py:470\u001b[0m, in \u001b[0;36m_spbase.__add__\u001b[1;34m(self, other)\u001b[0m\n\u001b[0;32m    468\u001b[0m \u001b[39melif\u001b[39;00m isdense(other):\n\u001b[0;32m    469\u001b[0m     other \u001b[39m=\u001b[39m np\u001b[39m.\u001b[39mbroadcast_to(other, \u001b[39mself\u001b[39m\u001b[39m.\u001b[39mshape)\n\u001b[1;32m--> 470\u001b[0m     \u001b[39mreturn\u001b[39;00m \u001b[39mself\u001b[39;49m\u001b[39m.\u001b[39;49m_add_dense(other)\n\u001b[0;32m    471\u001b[0m \u001b[39melse\u001b[39;00m:\n\u001b[0;32m    472\u001b[0m     \u001b[39mreturn\u001b[39;00m \u001b[39mNotImplemented\u001b[39m\n",
      "File \u001b[1;32mc:\\Users\\vincencius\\anaconda3\\envs\\recommender\\lib\\site-packages\\scipy\\sparse\\_compressed.py:352\u001b[0m, in \u001b[0;36m_cs_matrix._add_dense\u001b[1;34m(self, other)\u001b[0m\n\u001b[0;32m    350\u001b[0m dtype \u001b[39m=\u001b[39m upcast_char(\u001b[39mself\u001b[39m\u001b[39m.\u001b[39mdtype\u001b[39m.\u001b[39mchar, other\u001b[39m.\u001b[39mdtype\u001b[39m.\u001b[39mchar)\n\u001b[0;32m    351\u001b[0m order \u001b[39m=\u001b[39m \u001b[39mself\u001b[39m\u001b[39m.\u001b[39m_swap(\u001b[39m'\u001b[39m\u001b[39mCF\u001b[39m\u001b[39m'\u001b[39m)[\u001b[39m0\u001b[39m]\n\u001b[1;32m--> 352\u001b[0m result \u001b[39m=\u001b[39m np\u001b[39m.\u001b[39;49marray(other, dtype\u001b[39m=\u001b[39;49mdtype, order\u001b[39m=\u001b[39;49morder, copy\u001b[39m=\u001b[39;49m\u001b[39mTrue\u001b[39;49;00m)\n\u001b[0;32m    353\u001b[0m M, N \u001b[39m=\u001b[39m \u001b[39mself\u001b[39m\u001b[39m.\u001b[39m_swap(\u001b[39mself\u001b[39m\u001b[39m.\u001b[39mshape)\n\u001b[0;32m    354\u001b[0m y \u001b[39m=\u001b[39m result \u001b[39mif\u001b[39;00m result\u001b[39m.\u001b[39mflags\u001b[39m.\u001b[39mc_contiguous \u001b[39melse\u001b[39;00m result\u001b[39m.\u001b[39mT\n",
      "\u001b[1;31mMemoryError\u001b[0m: Unable to allocate 18.6 GiB for an array with shape (50000, 50000) and data type float64"
     ]
    }
   ],
   "source": [
    "re_ranked_sim_mat = sparse.csr_matrix(\n",
    "                        sim_mat.multiply(year_normalize)\n",
    "                                .multiply(metascore_normalize)\n",
    "                                .multiply(rating_normalize)\n",
    "                                .multiply(votes_normalize))\n",
    "\n",
    "print(\"shape: \", re_ranked_sim_mat.shape)\n",
    "re_ranked_sim_mat"
   ]
  },
  {
   "cell_type": "code",
   "execution_count": 13,
   "metadata": {},
   "outputs": [],
   "source": [
    "sparse.save_npz(\"../data/npz/re_ranked_sim_mat.npz\", re_ranked_sim_mat)"
   ]
  }
 ],
 "metadata": {
  "kernelspec": {
   "display_name": "imdb-recommender",
   "language": "python",
   "name": "python3"
  },
  "language_info": {
   "codemirror_mode": {
    "name": "ipython",
    "version": 3
   },
   "file_extension": ".py",
   "mimetype": "text/x-python",
   "name": "python",
   "nbconvert_exporter": "python",
   "pygments_lexer": "ipython3",
   "version": "3.10.6"
  },
  "orig_nbformat": 4
 },
 "nbformat": 4,
 "nbformat_minor": 2
}
